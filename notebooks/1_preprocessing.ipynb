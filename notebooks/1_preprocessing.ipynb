{
  "cells": [
    {
      "cell_type": "markdown",
      "metadata": {},
      "source": [
        "# Data Preprocessing\n",
        "\n",
        "In this notebook, we will preprocess the data by selecting relevant features and scaling them."
      ]
    },
    {
      "cell_type": "code",
      "execution_count": null,
      "metadata": {},
      "outputs": [],
      "source": [
        "import pandas as pd\n",
        "from sklearn.preprocessing import StandardScaler\n",
        "\n",
        "# Load the dataset\n",
        "df = pd.read_csv('data/Mall_Customers.csv')\n",
        "\n",
        "# Select features: Age, Annual Income, Spending Score\n",
        "X = df[['Age', 'Annual Income (k$)', 'Spending Score (1-100)']\n",
        "\n",
        "# Scale the features using StandardScaler\n",
        "scaler = StandardScaler()\n",
        "X_scaled = scaler.fit_transform(X)\n",
        "\n",
        "# Create a DataFrame with scaled features\n",
        "X_scaled_df = pd.DataFrame(X_scaled, columns=['Age', 'Annual Income', 'Spending Score'])\n",
        "\n",
        "# Display the first few rows of the scaled DataFrame\n",
        "print(X_scaled_df.head())"
      ]
    }
  ],
  "metadata": {
    "kernelspec": {
      "display_name": "Python 3",
      "language": "python",
      "name": "python3"
    },
    "language_info": {
      "codemirror_mode": {
        "name": "ipython",
        "version": 3
      },
      "file_extension": ".py",
      "mimetype": "text/x-python",
      "name": "python",
      "nbconvert_exporter": "python",
      "pygments_lexer": "ipython3",
      "version": "3.8.5"
    }
  },
  "nbformat": 4,
  "nbformat_minor": 5
}

