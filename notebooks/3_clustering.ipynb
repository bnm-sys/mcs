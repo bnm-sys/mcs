{
  "cells": [
    {
      "cell_type": "markdown",
      "metadata": {},
      "source": [
        "# K-Means Clustering\n",
        "\n",
        "In this notebook, we will apply K-Means clustering to the preprocessed data using the optimal number of clusters determined in the previous notebook."
      ]
    },
    {
      "cell_type": "code",
      "execution_count": null,
      "metadata": {},
      "outputs": [],
      "source": [
        "import pandas as pd\n",
        "from sklearn.cluster import KMeans\n",
        "from data_utils import load_and_scale_data\n",
        "\n",
        "# Load original data and scaled features\n",
        "df, X_scaled_df = load_and_scale_data()\n",
        "\n",
        "# Apply K-Means clustering with the chosen number of clusters (e.g., 5)\n",
        "kmeans = KMeans(n_clusters=5, init='k-means++', max_iter=300, n_init=10, random_state=0)\n",
        "y_kmeans = kmeans.fit_predict(X_scaled_df)\n",
        "\n",
        "# Add cluster labels to the original DataFrame\n",
        "df['Cluster'] = y_kmeans\n",
        "\n",
        "# Display first few rows with cluster labels\n",
        "print(df.head())\n"
      ]
    }
  ],
  "metadata": {
    "kernelspec": {
      "display_name": "Python 3",
      "language": "python",
      "name": "python3"
    },
    "language_info": {
      "codemirror_mode": {
        "name": "ipython",
        "version": 3
      },
      "file_extension": ".py",
      "mimetype": "text/x-python",
      "name": "python",
      "nbconvert_exporter": "python",
      "pygments_lexer": "ipython3",
      "version": "3.8.5"
    }
  },
  "nbformat": 4,
  "nbformat_minor": 5
}
