{
  "cells": [
    {
      "cell_type": "markdown",
      "metadata": {},
      "source": [
        "# Cluster Analysis and Profiling\n",
        "\n",
        "In this notebook, we will analyze the characteristics of each cluster and try to profile them."
      ]
    },
    {
      "cell_type": "code",
      "execution_count": null,
      "metadata": {},
      "outputs": [],
      "source": [
        "import pandas as pd\n",
        "\n",
        "# Load the DataFrame with cluster labels\n",
        "df = pd.read_csv('data/Mall_Customers.csv')\n",
        "X = df[['Age', 'Annual Income (k$)', 'Spending Score (1-100)']]\n",
        "from sklearn.preprocessing import StandardScaler\n",
        "scaler = StandardScaler()\n",
        "X_scaled = scaler.fit_transform(X)\n",
        "from sklearn.cluster import KMeans\n",
        "kmeans = KMeans(n_clusters=5, init='k-means++', max_iter=300, n_init=10, random_state=0)\n",
        "y_kmeans = kmeans.fit_predict(X_scaled)\n",
        "df['Cluster'] = y_kmeans\n",
        "\n",
        "# Compute mean values for each cluster\n",
        "cluster_profiles = df.groupby('Cluster').mean()\n",
        "\n",
        "# Display cluster profiles\n",
        "print(cluster_profiles)\n",
        "\n",
        "# Suggest possible customer types based on cluster profiles\n",
        "print('\\nPossible Customer Types:')\n",
        "for cluster in cluster_profiles.index:\n",
        "    print(f'Cluster {cluster}:')\n",
        "    if cluster_profiles.loc[cluster, 'Annual Income (k$)'] > df['Annual Income (k$)'].mean() and \\\n",
        "       cluster_profiles.loc[cluster, 'Spending Score (1-100)'] > df['Spending Score (1-100)'].mean():\n",
        "        print('  High Income, High Spending')\n",
        "    elif cluster_profiles.loc[cluster, 'Annual Income (k$)'] > df['Annual Income (k$)'].mean() and \\\n",
        "         cluster_profiles.loc[cluster, 'Spending Score (1-100)'] < df['Spending Score (1-100)'].mean():\n",
        "        print('  High Income, Low Spending')\n",
        "    elif cluster_profiles.loc[cluster, 'Annual Income (k$)'] < df['Annual Income (k$)'].mean() and \\\n",
        "         cluster_profiles.loc[cluster, 'Spending Score (1-100)'] > df['Spending Score (1-100)'].mean():\n",
        "        print('  Low Income, High Spending')\n",
        "    else:\n",
        "        print('  Low Income, Low Spending')\n"
      ]
    },
    {
      "cell_type": "code",
      "execution_count": null,
      "metadata": {},
      "outputs": [],
      "source": [
        "# Export final DataFrame with cluster labels to outputs/clustered_customers.csv\n",
        "df.to_csv('outputs/clustered_customers.csv', index=False)"
      ]
    }
  ],
  "metadata": {
    "kernelspec": {
      "display_name": "Python 3",
      "language": "python",
      "name": "python3"
    },
    "language_info": {
      "codemirror_mode": {
        "name": "ipython",
        "version": 3
      },
      "file_extension": ".py",
      "mimetype": "text/x-python",
      "name": "python",
      "nbconvert_exporter": "python",
      "pygments_lexer": "ipython3",
      "version": "3.8.5"
    }
  },
  "nbformat": 4,
  "nbformat_minor": 5
}

